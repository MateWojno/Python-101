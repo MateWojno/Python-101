{
 "cells": [
  {
   "cell_type": "markdown",
   "metadata": {},
   "source": [
    "# Prints hello world\n"
   ]
  },
  {
   "cell_type": "markdown",
   "metadata": {},
   "source": [
    "for markdown press `m`\n",
    "\n",
    "for code press `y`\n"
   ]
  },
  {
   "cell_type": "markdown",
   "metadata": {},
   "source": []
  },
  {
   "cell_type": "code",
   "execution_count": 5,
   "metadata": {},
   "outputs": [
    {
     "name": "stdout",
     "output_type": "stream",
     "text": [
      "Hello Ago!\n"
     ]
    }
   ],
   "source": [
    "print ('Hello Ago!')"
   ]
  },
  {
   "cell_type": "markdown",
   "metadata": {},
   "source": [
    "## Basic data types"
   ]
  },
  {
   "cell_type": "code",
   "execution_count": 3,
   "metadata": {},
   "outputs": [],
   "source": [
    "planets_in_solar_system = 8 # int, pluto used to be the 9th planet, but is too small\n",
    "distance_to_alpha_centauri = 4.367 # float, lightyears\n",
    "can_liftoff = True\n",
    "shuttle_landed_on_the_moon = \"Apollo 11\" #string "
   ]
  },
  {
   "cell_type": "markdown",
   "metadata": {},
   "source": [
    "# Print data type"
   ]
  },
  {
   "cell_type": "code",
   "execution_count": 6,
   "metadata": {},
   "outputs": [
    {
     "name": "stdout",
     "output_type": "stream",
     "text": [
      "<class 'int'>\n"
     ]
    }
   ],
   "source": [
    "planets_in_solar_system = 8\n",
    "print (type(planets_in_solar_system))"
   ]
  },
  {
   "cell_type": "markdown",
   "metadata": {},
   "source": [
    "# Arithmetic operators"
   ]
  },
  {
   "cell_type": "markdown",
   "metadata": {},
   "source": [
    "Type\tDescription\tExample\n",
    "+\tAddition operator that adds two values together\t1 + 1\n",
    "-\tSubtraction operator that removes the value of the right side from the left side\t1 - 2\n",
    "/\tDivision operator that divides the left side as many times as the right side specifies\t10 / 2\n",
    "*\tMultiplication operator\t2 * 2\n"
   ]
  },
  {
   "cell_type": "markdown",
   "metadata": {},
   "source": [
    "## Assignment operators\n",
    "You can use assignment operators to assign values to a variable throughout the lifecycle of the variable. Here are some assignment operators you're likely to encounter as you're learning to build programs:"
   ]
  },
  {
   "cell_type": "markdown",
   "metadata": {},
   "source": [
    "Operator\tExample\n",
    "=\tx = 2\n",
    "x now contains 2.\n",
    "+=\tx += 2\n",
    "x incremented by 2. If it contained 2 before, it now has a value of 4.\n",
    "-=\tx -= 2\n",
    "x decremented by 2. If it contained 2 before, it now has a value of 0.\n",
    "/=\tx /= 2\n",
    "x divided by 2. If it contained 2 before, it now has a value of 1.\n",
    "*=\tx *= 2\n",
    "x multiplied by 2. If it contained 2 before, it now has a value of 4.\n"
   ]
  },
  {
   "cell_type": "markdown",
   "metadata": {},
   "source": [
    "# DATE"
   ]
  },
  {
   "cell_type": "code",
   "execution_count": 7,
   "metadata": {},
   "outputs": [
    {
     "name": "stdout",
     "output_type": "stream",
     "text": [
      "2022-08-05\n",
      "Today's date is: 2022-08-05\n"
     ]
    }
   ],
   "source": [
    "from datetime import date\n",
    "date.today()\n",
    "print(date.today())\n",
    "print(\"Today's date is: \" + str(date.today()))"
   ]
  },
  {
   "cell_type": "markdown",
   "metadata": {},
   "source": [
    "# Build a unit converter\n",
    "Now it's time to turn your attention to the second utility, converting parsecs to lightyears. One parsec is 3.26 lightyears, so you will multiply parsecs by that value to determine lightyears.\n",
    "\n",
    "Create a variable named parsecs and set it to 11. Then add the code to perform the appropriate calculation and store the result in a variable named lightyears. Finally print the result on the screen with so it displays a message which resembles the following:\n",
    "\n",
    "11 parsecs is ___ lightyears\n",
    "\n",
    "Remember to you can use str to convert numbers to strings"
   ]
  },
  {
   "cell_type": "code",
   "execution_count": 8,
   "metadata": {},
   "outputs": [
    {
     "name": "stdout",
     "output_type": "stream",
     "text": [
      "11 parsecs is 35.86 lightyears\n"
     ]
    }
   ],
   "source": [
    "parsecs = 11\n",
    "lightyears = parsecs * 3.26\n",
    "print(str(parsecs) + \" parsecs is \" + str(lightyears) + \" lightyears\")"
   ]
  },
  {
   "cell_type": "markdown",
   "metadata": {},
   "source": [
    "# Command-line input\n",
    "When you start a program by using python3, you give it the name of the file to start. You can also give it a set of arguments: data that the program will have access to when running. Here's how that can look:\n",
    "\n",
    "cmd:\n",
    "\n",
    "Copy\n",
    "python3 backup.py 2022-01-01\n",
    "In the preceding code, the string \"2022-01-01\" can be used as instruction to the program to start a backup from that date. What you gain by using command-line arguments is flexibility. The program can behave differently depending on its outside input."
   ]
  },
  {
   "cell_type": "code",
   "execution_count": 9,
   "metadata": {},
   "outputs": [
    {
     "name": "stdout",
     "output_type": "stream",
     "text": [
      "['C:\\\\Users\\\\MKW-lip-2021\\\\AppData\\\\Local\\\\Programs\\\\Python\\\\Python310\\\\lib\\\\site-packages\\\\ipykernel_launcher.py', '--ip=127.0.0.1', '--stdin=9008', '--control=9006', '--hb=9005', '--Session.signature_scheme=\"hmac-sha256\"', '--Session.key=b\"794c9750-f5a1-4724-9b61-15b2e5ab9dd0\"', '--shell=9007', '--transport=\"tcp\"', '--iopub=9009', '--f=c:\\\\Users\\\\MKW-lip-2021\\\\AppData\\\\Roaming\\\\jupyter\\\\runtime\\\\kernel-v2-12672kM520A7GNBrK.json']\n",
      "C:\\Users\\MKW-lip-2021\\AppData\\Local\\Programs\\Python\\Python310\\lib\\site-packages\\ipykernel_launcher.py\n",
      "--ip=127.0.0.1\n"
     ]
    }
   ],
   "source": [
    "import sys\n",
    "\n",
    "print(sys.argv)\n",
    "print(sys.argv[0]) # program name\n",
    "print(sys.argv[1]) # first arg"
   ]
  },
  {
   "cell_type": "markdown",
   "metadata": {},
   "source": [
    "## User input"
   ]
  },
  {
   "cell_type": "code",
   "execution_count": 10,
   "metadata": {},
   "outputs": [
    {
     "name": "stdout",
     "output_type": "stream",
     "text": [
      "Welcome to the greeter program\n",
      "Greetings: Agnieszka Wojno\n"
     ]
    }
   ],
   "source": [
    "print(\"Welcome to the greeter program\")\n",
    "name = input(\"Enter your name \")\n",
    "print(\"Greetings: \" + name)"
   ]
  },
  {
   "cell_type": "markdown",
   "metadata": {},
   "source": [
    "# Calc"
   ]
  },
  {
   "cell_type": "code",
   "execution_count": 11,
   "metadata": {},
   "outputs": [
    {
     "name": "stdout",
     "output_type": "stream",
     "text": [
      "calculator program\n",
      "1254625\n"
     ]
    }
   ],
   "source": [
    "print(\"calculator program\")\n",
    "first_number = input(\"first number: \")\n",
    "second_number = input(\"second number: \")\n",
    "print(int(first_number) + int(second_number))"
   ]
  },
  {
   "cell_type": "markdown",
   "metadata": {},
   "source": [
    "# semi interactive cons-app"
   ]
  },
  {
   "cell_type": "code",
   "execution_count": 12,
   "metadata": {},
   "outputs": [
    {
     "name": "stdout",
     "output_type": "stream",
     "text": [
      "121 parsecs is 394.64876 lightyears\n"
     ]
    }
   ],
   "source": [
    "parsecs_input = input(\"Input number of parsecs:\")\n",
    "parsecs = int(parsecs_input) #you have to declare data type of input, which is usually a str\n",
    "lightyears = 3.26156 * parsecs\n",
    "\n",
    "print(parsecs_input + \" parsecs is \" + str(lightyears) + \" lightyears\")"
   ]
  }
 ],
 "metadata": {
  "kernelspec": {
   "display_name": "Python 3.10.4 64-bit",
   "language": "python",
   "name": "python3"
  },
  "language_info": {
   "codemirror_mode": {
    "name": "ipython",
    "version": 3
   },
   "file_extension": ".py",
   "mimetype": "text/x-python",
   "name": "python",
   "nbconvert_exporter": "python",
   "pygments_lexer": "ipython3",
   "version": "3.10.4"
  },
  "orig_nbformat": 4,
  "vscode": {
   "interpreter": {
    "hash": "67dc9874dedfa32fa304f6636bb0a88d4fc0015ec8d61a6e5fa69d8cd2b1adfd"
   }
  }
 },
 "nbformat": 4,
 "nbformat_minor": 2
}
