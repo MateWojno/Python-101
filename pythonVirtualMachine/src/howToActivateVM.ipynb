{
 "cells": [
  {
   "cell_type": "markdown",
   "metadata": {},
   "source": [
    "# Activate the virtual environment"
   ]
  },
  {
   "cell_type": "markdown",
   "metadata": {},
   "source": [
    "Create a virtual environment\n",
    "You create a virtual environment by calling the venv module. The module expects a name as an argument.\n",
    "\n",
    "Take the following steps:\n",
    "\n",
    "Go to the directory where you want to keep your project.\n",
    "\n",
    "Use the following command to call the venv module. The command differs slightly depending on your operating system.\n",
    "\n",
    "Bash\n",
    "\n",
    "Copy\n",
    "python -m venv env\n",
    "\n",
    "At this point, some directories are created for you:\n",
    "\n",
    "Output\n",
    "\n",
    "Copy\n",
    "/env\n",
    "  /bin\n",
    "  /include\n",
    "  /lib\n",
    "Your environment needs the env directory to keep track of details like which version of Python and which libraries you're using. Don't put your program files in the env directory. We suggest that you put your files in the src directory or something similar. The project structure might then look like this:\n",
    "\n",
    "Output\n",
    "\n",
    "Copy\n",
    "/env\n",
    "/src\n",
    "  program.py  \n",
    "\n",
    "  Activate the virtual environment\n",
    "At this point, you have a virtual environment, but you haven't started using it. To use it, you need to activate it by calling an activate script in your env directory. Here's how the activation can look on Windows, Linux, and macOS:\n",
    "\n",
    "Bash\n",
    "\n",
    "Copy\n",
    "# Windows\n",
    "C:\\Users\\MKW-lip-2021\\Documents\\MateWojno\\Python-101\\pythonVirtualMachine\\env\\Scripts\\activate.bat\n",
    "\n",
    "# is the source\n",
    "C:\\Users\\MKW-lip-2021\\Documents\\MateWojno\\Python-101\\pythonVirtualMachine \n",
    "\n",
    "# Linux, WSL or macOS\n",
    "source env/bin/activate\n",
    "Calling activate changes your prompt. It's now preceded with (env) and looks something like this example:\n",
    "\n",
    "Bash\n",
    "\n",
    "Copy\n",
    "(env) -> path/to/project\n",
    "At this point, you're inside your virtual environment. Anything you do happens in isolation."
   ]
  },
  {
   "cell_type": "markdown",
   "metadata": {},
   "source": []
  }
 ],
 "metadata": {
  "kernelspec": {
   "display_name": "Python 3.10.4 64-bit",
   "language": "python",
   "name": "python3"
  },
  "language_info": {
   "codemirror_mode": {
    "name": "ipython",
    "version": 3
   },
   "file_extension": ".py",
   "mimetype": "text/x-python",
   "name": "python",
   "nbconvert_exporter": "python",
   "pygments_lexer": "ipython3",
   "version": "3.10.4"
  },
  "orig_nbformat": 4,
  "vscode": {
   "interpreter": {
    "hash": "67dc9874dedfa32fa304f6636bb0a88d4fc0015ec8d61a6e5fa69d8cd2b1adfd"
   }
  }
 },
 "nbformat": 4,
 "nbformat_minor": 2
}
